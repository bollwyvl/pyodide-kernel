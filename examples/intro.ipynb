{
  "metadata": {
    "kernelspec": {
      "name": "python",
      "display_name": "Python (Pyodide)",
      "language": "python"
    },
    "language_info": {
      "codemirror_mode": {
        "name": "python",
        "version": 3
      },
      "file_extension": ".py",
      "mimetype": "text/x-python",
      "name": "python",
      "nbconvert_exporter": "python",
      "pygments_lexer": "ipython3",
      "version": "3.8"
    }
  },
  "nbformat_minor": 5,
  "nbformat": 4,
  "cells": [
    {
      "cell_type": "markdown",
      "source": "# Introduction to `jupyterlite-pyodide-kernel`\n\n`jupyterlite-pyodide-kernel` extends [JupyterLite](https://jupyterlite.rtfd.io) with a Python 3 kernel, powered by [Pyodide](https://pyodide.org/).",
      "metadata": {},
      "id": "ab1dc4ef-36ae-4893-8fb4-474440fabc8a"
    },
    {
      "cell_type": "markdown",
      "source": "## Visualizing data in a Notebook ✨\n\nBelow is an example of a code cell. We'll visualize some simple data using two popular\npackages in Python. We'll use [NumPy](https://numpy.org/) to create some random data,\nand [Matplotlib](https://matplotlib.org) to visualize it.\n\nNote how the code and the results of running the code are bundled together.",
      "metadata": {},
      "id": "a6372e17-bf46-48c5-90a3-bdd6236e376e"
    },
    {
      "cell_type": "code",
      "source": "from matplotlib import pyplot as plt\nimport numpy as np\n\n# Generate 100 random data points along 3 dimensions\nx, y, scale = np.random.randn(3, 100)\nfig, ax = plt.subplots()\n\n# Map each onto a scatterplot we'll create with Matplotlib\nax.scatter(x=x, y=y, c=scale, s=np.abs(scale) * 500)\nax.set(title=\"Some random data, created with JupyterLab!\")\nplt.show()",
      "metadata": {
        "trusted": true
      },
      "execution_count": null,
      "outputs": [],
      "id": "fe55883a-6887-43dd-9498-5333a51799e2"
    },
    {
      "cell_type": "markdown",
      "source": "## Interact with Widgets 🎛️\n\n[Jupyter Widgets](https://jupyter.org/widgets) power rich interactivity between users of Jupyter clients and Jupyter kernels. With `jupyterlab_widgets` installed, all of the [core widgets](https://ipywidgets.readthedocs.io/en/latest/examples/Widget%20List.html) will work in `jupyterlite-pyodide-kernel`, as do many third-party packages.",
      "metadata": {},
      "id": "61bd8fda-3e36-4910-b319-668e8843f322"
    },
    {
      "cell_type": "code",
      "source": "%pip install ipywidgets\nfrom ipywidgets import *\nslider = FloatSlider()\nreadout = FloatText()\njslink((slider, \"value\"), (readout, \"value\"))\nHBox([slider, readout])",
      "metadata": {
        "trusted": true
      },
      "execution_count": null,
      "outputs": [],
      "id": "b034c439-aea0-4880-9118-75f7a2b1092a"
    }
  ]
}