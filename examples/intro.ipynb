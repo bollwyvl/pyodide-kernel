{
 "cells": [
  {
   "cell_type": "markdown",
   "id": "ab1dc4ef-36ae-4893-8fb4-474440fabc8a",
   "metadata": {},
   "source": [
    "# Introduction to `jupyterlite-pyodide-kernel`\n",
    "\n",
    "[`jupyterlite-pyodide-kernel`](https://github.com/jupyterlite/pyodide-kernel) extends [JupyterLite](https://jupyterlite.rtfd.io) with a Python 3 kernel, powered by [Pyodide](https://pyodide.org/) and [IPython](https://ipython.readthedocs.io).\n",
    "\n",
    "> _ℹ️ Use the ▸ button, or <kbd>shift+enter</kbd> to run cells below_"
   ]
  },
  {
   "cell_type": "code",
   "execution_count": null,
   "id": "db046898-d539-444b-a1e2-e95b4b40d989",
   "metadata": {},
   "outputs": [],
   "source": [
    "import this"
   ]
  },
  {
   "cell_type": "markdown",
   "id": "edd8be2c-16a1-47c5-ae5d-7b70ff3938b2",
   "metadata": {},
   "source": [
    "### Example: Interactive Widgets\n",
    "\n",
    "[Jupyter Widgets](https://jupyter.org/widgets) power rich interactivity between users of Jupyter clients and Jupyter kernels. With `jupyterlab_widgets` installed, all of the [core widgets](https://ipywidgets.readthedocs.io/en/latest/examples/Widget%20List.html) will work in `jupyterlite-pyodide-kernel`, as do many third-party packages.\n",
    "\n",
    "> ⚠️ _`ipywidgets`  _and_ `jupyterlab_widgets` were included at **build time** of this site, and are **not** available by default when installing `jupyterlite-pyodide-kernel`._"
   ]
  },
  {
   "cell_type": "code",
   "execution_count": null,
   "id": "b034c439-aea0-4880-9118-75f7a2b1092a",
   "metadata": {},
   "outputs": [],
   "source": [
    "from ipywidgets import *\n",
    "slider = FloatSlider()\n",
    "readout = FloatText()\n",
    "jslink((slider, \"value\"), (readout, \"value\"))\n",
    "HBox([slider, readout])"
   ]
  },
  {
   "cell_type": "markdown",
   "id": "cd2f8599-4985-4db7-8f75-e447cb4801fc",
   "metadata": {},
   "source": [
    "## What is JupyterLite?\n",
    "\n",
    "JupyterLite is a **limited** implementation of the [Jupyter architecture](https://jupyter.org).\n",
    "\n",
    "Like the tradtional JupyterLab client/server stack of **tools for interactive computing**, it provides:\n",
    "- a subset of the [Jupyter **Server** API](https://jupyter-server.readthedocs.io/en/latest/developers/rest-api.html), implemented in JavaScript\n",
    "- browser-based **kernels**, like JupyterLite Pyodide Kernel, which run entirely in the browser\n",
    "- a Jupyter browser **client** based on [JupyterLab](https://jupyterlab.readthedocs.io) and many of its [extensions](https://pypi.org/search/?q=&o=&c=Framework+%3A%3A+Jupyter+%3A%3A+JupyterLab+%3A%3A+Extensions+%3A%3A+Prebuilt)\n",
    "- the Jupyter [Notebook **format**](https://nbformat.readthedocs.io)"
   ]
  },
  {
   "cell_type": "markdown",
   "id": "b559d0e6-03bf-4706-b5f5-4fd1ef5c0a36",
   "metadata": {},
   "source": [
    "## What is Pyodide?\n",
    "\n",
    "Pyodide is a distribution of [CPython](https://github.com/python/cpython), compiled to [WebAssembly](https://webassembly.org) with [Emscripten](https://emscripten.org) which runs entirely within the browser."
   ]
  },
  {
   "cell_type": "markdown",
   "id": "ddcc1b90-cbaf-422b-915e-448be20617cd",
   "metadata": {},
   "source": [
    "## What _can't_ it do?\n",
    "\n",
    "While a very broad subset of the CPython standard library, and much of the open source, scientific Python ecosystem are available, there are some limitation."
   ]
  },
  {
   "cell_type": "markdown",
   "id": "f2a6e1fc-589f-46f5-aef5-1878c476a213",
   "metadata": {},
   "source": [
    "### Differences from CPython\n",
    "\n",
    "A number of aspects of the underlying Python implementation that don't work the same way as their upstream counterparts, if at all.\n",
    "\n",
    "- no threads\n",
    "- no subprocesses\n",
    "- no custom event loops\n",
    "- some blocking features are made asynchronous, such as `await input` \n",
    "\n",
    "Libraries and notebooks that use these features will need to be updated."
   ]
  },
  {
   "cell_type": "markdown",
   "id": "896da1d0-f51b-4c76-a25a-c448455e4960",
   "metadata": {},
   "source": [
    "### Differences from Pyodide\n",
    "Inside a [WebWorker](https://developer.mozilla.org/en-US/docs/Web/API/Web_Workers_API/Using_web_workers), there are a number of features that don't work (yet).\n",
    "\n",
    "- no access to the browser's DOM\n",
    "    - in particular, the Pyodide [matplotlib](https://github.com/pyodide/matplotlib-pyodide) backend will not work"
   ]
  },
  {
   "cell_type": "markdown",
   "id": "75187813-fe26-47d6-84c2-eb5f4ac4bd91",
   "metadata": {},
   "source": [
    "## Where are all the Pyodide packages?\n",
    "\n",
    "This site follows the pattern for an [offline site](https://jupyterlite.readthedocs.io/en/0.1.0-beta/howto/configure/advanced/offline.html) based on a minimal, but fully self-contained, distribution of Pyodide. \n",
    "\n",
    "> ℹ️ For a more full-featured site with full Pyodide distributions, hosted from a CDN, see: \n",
    ">\n",
    "> - the JupyterLite [documentation](https://jupyterlite.readthedocs.io) on [ReadTheDocs](https://jupyterlite.readthedocs.io/en/0.1.0-beta/reference/demo.html)\n",
    "> - the JupyterLite [demo](https://jupyterlite.github.io/demo) on [GitHub Pages](https://jupyterlite.readthedocs.io/en/0.1.0-beta/quickstart/deploy.html)\n",
    "\n",
    "This means:\n",
    "- no additional resources are loaded from any other sites on the internet\n",
    "  - serving from a content delivery network (CDN) is often faster, but _could_ disappear or change in the future \n",
    "- only the Python 3.10 standard library is available by default"
   ]
  },
  {
   "cell_type": "markdown",
   "id": "5aaff9a8-9dfa-4180-8c9f-a2930557b3b2",
   "metadata": {},
   "source": [
    "## How do I use more Python packages?\n",
    "\n",
    "Simple python packages can be installed at runtime through one of the following methods.\n",
    "\n",
    "> ℹ️ Learn more on the [JupyterLite documentation](https://jupyterlite.readthedocs.io/en/latest/howto/python/packages.html), including how to make more packages available."
   ]
  },
  {
   "cell_type": "markdown",
   "id": "4a9ffff0-e38c-47cf-b991-40dd17359b0c",
   "metadata": {},
   "source": [
    "### At runtime\n",
    "\n",
    "Packages not added (or known of) at build time can be imported with the [`%pip`](https://ipython.readthedocs.io/en/stable/interactive/magics.html#magic-pip) magic. This gives site visitors the freedom to explore beyond what a site builder even imagined at build time."
   ]
  },
  {
   "cell_type": "code",
   "execution_count": null,
   "id": "2154019e-bd81-4313-a88a-445c5cf673f9",
   "metadata": {},
   "outputs": [],
   "source": [
    "%pip install -q emoji"
   ]
  },
  {
   "cell_type": "code",
   "execution_count": null,
   "id": "68b2607f-035c-48f9-ab21-316228085644",
   "metadata": {},
   "outputs": [],
   "source": [
    "import emoji\n",
    "b, m, s = \":badger:\", \":mushroom:\", \":snake:\"\n",
    "emoji.emojize(3 * (b * 12 + m * 2) + s * 3)"
   ]
  },
  {
   "cell_type": "markdown",
   "id": "58aa75f7-6f13-4c08-a83d-2b776116db7e",
   "metadata": {},
   "source": [
    "## How do I use more client extension packages?\n",
    "\n",
    "Some python packages, like widgets, will require client extensions, and need to be available when the site loads for a site visitor.\n",
    "\n",
    "Any number of JupyterLab [extensions]() can be [added at **build time**](https://jupyterlite.readthedocs.io/en/latest/howto/configure/simple_extensions.html), but not all will be compatible:\n",
    "\n",
    "- some extensions require a [Jupyter Server extension](https://jupyter-server.readthedocs.io/en/latest/developers/extensions.html)\n",
    "  - it is _possible_ to [extend the JupyterLite server](https://jupyterlite.readthedocs.io/en/latest/howto/extensions/server.html)\n",
    "- some extensions require a different version of JupyterLab than the one JupyterLite is based on"
   ]
  }
 ],
 "metadata": {
  "kernelspec": {
   "display_name": "Python 3 (ipykernel)",
   "language": "python",
   "name": "python3"
  },
  "language_info": {
   "codemirror_mode": {
    "name": "ipython",
    "version": 3
   },
   "file_extension": ".py",
   "mimetype": "text/x-python",
   "name": "python",
   "nbconvert_exporter": "python",
   "pygments_lexer": "ipython3",
   "version": "3.11.0"
  }
 },
 "nbformat": 4,
 "nbformat_minor": 5
}
